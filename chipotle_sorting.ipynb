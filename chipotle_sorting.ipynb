{
  "nbformat": 4,
  "nbformat_minor": 0,
  "metadata": {
    "colab": {
      "provenance": [],
      "authorship_tag": "ABX9TyNO+sobON6mt/OF/IX4sblj",
      "include_colab_link": true
    },
    "kernelspec": {
      "name": "python3",
      "display_name": "Python 3"
    },
    "language_info": {
      "name": "python"
    }
  },
  "cells": [
    {
      "cell_type": "markdown",
      "metadata": {
        "id": "view-in-github",
        "colab_type": "text"
      },
      "source": [
        "<a href=\"https://colab.research.google.com/github/ar-ravi/notebooks/blob/main/chipotle_sorting.ipynb\" target=\"_parent\"><img src=\"https://colab.research.google.com/assets/colab-badge.svg\" alt=\"Open In Colab\"/></a>"
      ]
    },
    {
      "cell_type": "code",
      "execution_count": 1,
      "metadata": {
        "id": "enMpcJSOwTQD"
      },
      "outputs": [],
      "source": [
        "import pandas as pd\n",
        "import numpy as np"
      ]
    },
    {
      "cell_type": "code",
      "source": [
        "df = pd.read_csv('Euro_2012_stats_TEAM.csv')\n",
        "print(df)"
      ],
      "metadata": {
        "colab": {
          "base_uri": "https://localhost:8080/"
        },
        "id": "FJDUdjmMyP8T",
        "outputId": "1962a270-9af0-4d6b-e36f-0cd4e9d8e63d"
      },
      "execution_count": 11,
      "outputs": [
        {
          "output_type": "stream",
          "name": "stdout",
          "text": [
            "                   Team  Goals  Shots on target  Shots off target  \\\n",
            "0               Croatia      4               13                12   \n",
            "1        Czech Republic      4               13                18   \n",
            "2               Denmark      4               10                10   \n",
            "3               England      5               11                18   \n",
            "4                France      3               22                24   \n",
            "5               Germany     10               32                32   \n",
            "6                Greece      5                8                18   \n",
            "7                 Italy      6               34                45   \n",
            "8           Netherlands      2               12                36   \n",
            "9                Poland      2               15                23   \n",
            "10             Portugal      6               22                42   \n",
            "11  Republic of Ireland      1                7                12   \n",
            "12               Russia      5                9                31   \n",
            "13                Spain     12               42                33   \n",
            "14               Sweden      5               17                19   \n",
            "15              Ukraine      2                7                26   \n",
            "\n",
            "   Shooting Accuracy % Goals-to-shots  Total shots (inc. Blocked)  \\\n",
            "0              51.9%            16.0%                          32   \n",
            "1              41.9%            12.9%                          39   \n",
            "2              50.0%            20.0%                          27   \n",
            "3              50.0%            17.2%                          40   \n",
            "4              37.9%             6.5%                          65   \n",
            "5              47.8%            15.6%                          80   \n",
            "6              30.7%            19.2%                          32   \n",
            "7              43.0%             7.5%                         110   \n",
            "8              25.0%             4.1%                          60   \n",
            "9              39.4%             5.2%                          48   \n",
            "10             34.3%             9.3%                          82   \n",
            "11             36.8%             5.2%                          28   \n",
            "12             22.5%            12.5%                          59   \n",
            "13             55.9%            16.0%                         100   \n",
            "14             47.2%            13.8%                          39   \n",
            "15             21.2%             6.0%                          38   \n",
            "\n",
            "    Hit Woodwork  Penalty goals  Penalties not scored  ...  Saves made  \\\n",
            "0              0              0                     0  ...          13   \n",
            "1              0              0                     0  ...           9   \n",
            "2              1              0                     0  ...          10   \n",
            "3              0              0                     0  ...          22   \n",
            "4              1              0                     0  ...           6   \n",
            "5              2              1                     0  ...          10   \n",
            "6              1              1                     1  ...          13   \n",
            "7              2              0                     0  ...          20   \n",
            "8              2              0                     0  ...          12   \n",
            "9              0              0                     0  ...           6   \n",
            "10             6              0                     0  ...          10   \n",
            "11             0              0                     0  ...          17   \n",
            "12             2              0                     0  ...          10   \n",
            "13             0              1                     0  ...          15   \n",
            "14             3              0                     0  ...           8   \n",
            "15             0              0                     0  ...          13   \n",
            "\n",
            "    Saves-to-shots ratio  Fouls Won Fouls Conceded  Offsides  Yellow Cards  \\\n",
            "0                  81.3%         41             62         2             9   \n",
            "1                  60.1%         53             73         8             7   \n",
            "2                  66.7%         25             38         8             4   \n",
            "3                  88.1%         43             45         6             5   \n",
            "4                  54.6%         36             51         5             6   \n",
            "5                  62.6%         63             49        12             4   \n",
            "6                  65.1%         67             48        12             9   \n",
            "7                  74.1%        101             89        16            16   \n",
            "8                  70.6%         35             30         3             5   \n",
            "9                  66.7%         48             56         3             7   \n",
            "10                 71.5%         73             90        10            12   \n",
            "11                 65.4%         43             51        11             6   \n",
            "12                 77.0%         34             43         4             6   \n",
            "13                 93.8%        102             83        19            11   \n",
            "14                 61.6%         35             51         7             7   \n",
            "15                 76.5%         48             31         4             5   \n",
            "\n",
            "    Red Cards  Subs on  Subs off  Players Used  \n",
            "0           0        9         9            16  \n",
            "1           0       11        11            19  \n",
            "2           0        7         7            15  \n",
            "3           0       11        11            16  \n",
            "4           0       11        11            19  \n",
            "5           0       15        15            17  \n",
            "6           1       12        12            20  \n",
            "7           0       18        18            19  \n",
            "8           0        7         7            15  \n",
            "9           1        7         7            17  \n",
            "10          0       14        14            16  \n",
            "11          1       10        10            17  \n",
            "12          0        7         7            16  \n",
            "13          0       17        17            18  \n",
            "14          0        9         9            18  \n",
            "15          0        9         9            18  \n",
            "\n",
            "[16 rows x 35 columns]\n"
          ]
        }
      ]
    }
  ]
}